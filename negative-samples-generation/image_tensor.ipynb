{
 "cells": [
  {
   "cell_type": "code",
   "execution_count": 4,
   "metadata": {},
   "outputs": [],
   "source": [
    "%matplotlib inline\n",
    "\n",
    "import os\n",
    "#import sys\n",
    "import cv2\n",
    "import numpy as np\n",
    "import matplotlib.pyplot as plt\n",
    "import torch\n",
    "from PIL import Image\n",
    "from torchvision import transforms\n",
    "import torch.utils.data as Data"
   ]
  },
  {
   "cell_type": "code",
   "execution_count": 5,
   "metadata": {},
   "outputs": [],
   "source": [
    "POS_DIR = os.path.abspath(os.path.join(os.getcwd(), \"..\", \"dataset\", \"positive\"))\n",
    "NEG_DIR = os.path.abspath(os.path.join(POS_DIR, \"..\", \"negative\"))\n",
    "\n",
    "# 保存小图片的文件夹\n",
    "POS_224_DIR = os.path.abspath(os.path.join(POS_DIR, \"..\", \"positive224\"))\n",
    "NEG_224_DIR = os.path.abspath(os.path.join(POS_DIR, \"..\", \"negative224\"))\n",
    "# \n",
    "SMALL_IMG_HEIGHT = 224\n",
    "SMALL_IMG_WIDTH = 224\n",
    "\n",
    "TENSOR_DIR = os.path.abspath(os.path.join(POS_DIR, \"..\", \"tensor\"))"
   ]
  },
  {
   "cell_type": "code",
   "execution_count": 6,
   "metadata": {},
   "outputs": [],
   "source": [
    "loader = transforms.Compose([\n",
    "    transforms.ToTensor()])  \n",
    "unloader = transforms.ToPILImage()"
   ]
  },
  {
   "cell_type": "code",
   "execution_count": 7,
   "metadata": {},
   "outputs": [],
   "source": [
    "image_name = os.path.join(POS_224_DIR, \"1.pos.1.1.bmp\")\n",
    "\n",
    "def get_tensor(image_name):\n",
    "    image = Image.open(image_name).convert('RGB')\n",
    "    image_tensor = loader(image)\n",
    "    return image_tensor"
   ]
  },
  {
   "cell_type": "code",
   "execution_count": 93,
   "metadata": {},
   "outputs": [],
   "source": [
    "# 保存正样本\n",
    "tensor_list = []\n",
    "for filename in os.listdir(POS_224_DIR):\n",
    "    if filename.split('.')[-1] == 'bmp':\n",
    "        tensor_list.append(get_tensor(os.path.join(POS_224_DIR, filename)))\n",
    "data = torch.stack(tensor_list, 0)"
   ]
  },
  {
   "cell_type": "code",
   "execution_count": 94,
   "metadata": {},
   "outputs": [
    {
     "data": {
      "text/plain": [
       "torch.Size([1800, 3, 224, 224])"
      ]
     },
     "execution_count": 94,
     "metadata": {},
     "output_type": "execute_result"
    }
   ],
   "source": [
    "data.shape"
   ]
  },
  {
   "cell_type": "code",
   "execution_count": 61,
   "metadata": {},
   "outputs": [],
   "source": [
    "np.save(os.path.join(TENSOR_DIR, \"pos.npy\"), data.numpy())"
   ]
  },
  {
   "cell_type": "code",
   "execution_count": 95,
   "metadata": {},
   "outputs": [],
   "source": [
    "# 保存负样本\n",
    "tensor_list = []\n",
    "for filename in os.listdir(NEG_224_DIR):\n",
    "    if filename.split('.')[-1] == 'bmp' and \"720p\" in filename:\n",
    "        tensor_list.append(get_tensor(os.path.join(NEG_224_DIR, filename)))\n",
    "data = torch.stack(tensor_list, 0)"
   ]
  },
  {
   "cell_type": "code",
   "execution_count": 96,
   "metadata": {},
   "outputs": [],
   "source": [
    "np.save(os.path.join(TENSOR_DIR, \"neg720.npy\"), data.numpy())"
   ]
  },
  {
   "cell_type": "code",
   "execution_count": null,
   "metadata": {},
   "outputs": [],
   "source": []
  },
  {
   "cell_type": "code",
   "execution_count": 67,
   "metadata": {},
   "outputs": [],
   "source": [
    "# 测试loader"
   ]
  },
  {
   "cell_type": "code",
   "execution_count": 85,
   "metadata": {},
   "outputs": [
    {
     "name": "stdout",
     "output_type": "stream",
     "text": [
      "torch.Size([3600, 3, 224, 224]) torch.Size([3600])\n"
     ]
    }
   ],
   "source": [
    "posx = torch.from_numpy(np.load(os.path.join(TENSOR_DIR, \"pos.npy\")))\n",
    "posy = torch.ones(posx.shape[0])\n",
    "negx = torch.from_numpy(np.load(os.path.join(TENSOR_DIR, \"neg.npy\")))\n",
    "negy = torch.zeros(negx.shape[0])\n",
    "x = torch.cat([posx, negx], 0)\n",
    "y = torch.cat([posy, negy], 0)\n",
    "print(x.shape, y.shape)\n",
    "torch_dataset = Data.TensorDataset(x,y)\n",
    "\n",
    "train_size = int(0.8 * len(torch_dataset))\n",
    "test_size = len(torch_dataset) - train_size\n",
    "train_dataset, test_dataset = torch.utils.data.random_split(torch_dataset, [train_size, test_size])\n",
    "\n",
    "trainloader = torch.utils.data.DataLoader(train_dataset, batch_size=128, shuffle=True, num_workers=2)\n",
    "testloader = torch.utils.data.DataLoader(test_dataset, batch_size=128, shuffle=True, num_workers=2)"
   ]
  },
  {
   "cell_type": "code",
   "execution_count": 87,
   "metadata": {
    "scrolled": true
   },
   "outputs": [
    {
     "name": "stdout",
     "output_type": "stream",
     "text": [
      "0 torch.Size([128, 3, 224, 224]) torch.Size([128])\n",
      "1 torch.Size([128, 3, 224, 224]) torch.Size([128])\n",
      "2 torch.Size([128, 3, 224, 224]) torch.Size([128])\n",
      "3 torch.Size([128, 3, 224, 224]) torch.Size([128])\n",
      "4 torch.Size([128, 3, 224, 224]) torch.Size([128])\n",
      "5 torch.Size([128, 3, 224, 224]) torch.Size([128])\n",
      "6 torch.Size([128, 3, 224, 224]) torch.Size([128])\n",
      "7 torch.Size([128, 3, 224, 224]) torch.Size([128])\n",
      "8 torch.Size([128, 3, 224, 224]) torch.Size([128])\n",
      "9 torch.Size([128, 3, 224, 224]) torch.Size([128])\n",
      "10 torch.Size([128, 3, 224, 224]) torch.Size([128])\n",
      "11 torch.Size([128, 3, 224, 224]) torch.Size([128])\n",
      "12 torch.Size([128, 3, 224, 224]) torch.Size([128])\n",
      "13 torch.Size([128, 3, 224, 224]) torch.Size([128])\n",
      "14 torch.Size([128, 3, 224, 224]) torch.Size([128])\n",
      "15 torch.Size([128, 3, 224, 224]) torch.Size([128])\n",
      "16 torch.Size([128, 3, 224, 224]) torch.Size([128])\n",
      "17 torch.Size([128, 3, 224, 224]) torch.Size([128])\n",
      "18 torch.Size([128, 3, 224, 224]) torch.Size([128])\n",
      "19 torch.Size([128, 3, 224, 224]) torch.Size([128])\n",
      "20 torch.Size([128, 3, 224, 224]) torch.Size([128])\n",
      "21 torch.Size([128, 3, 224, 224]) torch.Size([128])\n",
      "22 torch.Size([64, 3, 224, 224]) torch.Size([64])\n"
     ]
    }
   ],
   "source": [
    "for batch_idx, (inputs, targets) in enumerate(trainloader):\n",
    "    print(batch_idx, inputs.shape, targets.shape)"
   ]
  },
  {
   "cell_type": "code",
   "execution_count": 79,
   "metadata": {},
   "outputs": [],
   "source": []
  },
  {
   "cell_type": "code",
   "execution_count": 82,
   "metadata": {},
   "outputs": [],
   "source": [
    "trainloader = torch.utils.data.DataLoader(train_dataset, batch_size=128, shuffle=True, num_workers=2)\n",
    "testloader = torch.utils.data.DataLoader(test_dataset, batch_size=128, shuffle=True, num_workers=2)"
   ]
  },
  {
   "cell_type": "code",
   "execution_count": null,
   "metadata": {},
   "outputs": [],
   "source": []
  },
  {
   "cell_type": "code",
   "execution_count": 92,
   "metadata": {},
   "outputs": [
    {
     "name": "stdout",
     "output_type": "stream",
     "text": [
      "train_loss,2.45455, train_accu,6.00000\n"
     ]
    }
   ],
   "source": [
    "print(\"train_loss,{:.5f}, train_accu,{:.5f}\".format(2.45454545, 6.000))"
   ]
  },
  {
   "cell_type": "code",
   "execution_count": 3,
   "metadata": {},
   "outputs": [],
   "source": [
    "# ceshi"
   ]
  },
  {
   "cell_type": "code",
   "execution_count": 13,
   "metadata": {},
   "outputs": [],
   "source": [
    "posfiles = os.listdir(POS_224_DIR)\n",
    "negfiles = os.listdir(NEG_224_DIR)"
   ]
  },
  {
   "cell_type": "code",
   "execution_count": 19,
   "metadata": {},
   "outputs": [],
   "source": [
    "poslist = [[] for i in range(201)]\n",
    "neglist = [[] for i in range(201)]\n",
    "\n",
    "for name in posfiles:\n",
    "    if \"pos\" not in name:\n",
    "        continue\n",
    "    poslist[int(name.split('.')[0])].append(name)\n",
    "\n",
    "for name in negfiles:\n",
    "    if \"1080\" not in name:\n",
    "        continue\n",
    "    neglist[int(name.split('.')[0])].append(name)"
   ]
  },
  {
   "cell_type": "code",
   "execution_count": 22,
   "metadata": {},
   "outputs": [],
   "source": [
    "for i in range(1,201):\n",
    "    pos, neg = 0, 0\n",
    "    for image_name in poslist[i]:\n",
    "        tensor = get_tensor(os.path.join(POS_224_DIR, image_name))\n",
    "        "
   ]
  },
  {
   "cell_type": "code",
   "execution_count": 28,
   "metadata": {},
   "outputs": [
    {
     "name": "stdout",
     "output_type": "stream",
     "text": [
      "torch.Size([1, 3, 224, 224])\n"
     ]
    }
   ],
   "source": [
    "for image_name in poslist[1]:\n",
    "    tensor = get_tensor(os.path.join(POS_224_DIR, image_name)).unsqueeze(0)\n",
    "    print(tensor.shape)\n",
    "    break"
   ]
  }
 ],
 "metadata": {
  "kernelspec": {
   "display_name": "Python 3",
   "language": "python",
   "name": "python3"
  },
  "language_info": {
   "codemirror_mode": {
    "name": "ipython",
    "version": 3
   },
   "file_extension": ".py",
   "mimetype": "text/x-python",
   "name": "python",
   "nbconvert_exporter": "python",
   "pygments_lexer": "ipython3",
   "version": "3.6.8"
  }
 },
 "nbformat": 4,
 "nbformat_minor": 2
}
