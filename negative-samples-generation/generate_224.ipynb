{
 "cells": [
  {
   "cell_type": "code",
   "execution_count": 1,
   "metadata": {},
   "outputs": [],
   "source": [
    "%matplotlib inline\n",
    "\n",
    "import os\n",
    "#import sys\n",
    "import cv2\n",
    "import numpy as np\n",
    "import matplotlib.pyplot as plt"
   ]
  },
  {
   "cell_type": "code",
   "execution_count": 2,
   "metadata": {},
   "outputs": [],
   "source": [
    "POS_DIR = os.path.abspath(os.path.join(os.getcwd(), \"..\", \"dataset\", \"positive\"))\n",
    "NEG_DIR = os.path.abspath(os.path.join(POS_DIR, \"..\", \"negative\"))"
   ]
  },
  {
   "cell_type": "code",
   "execution_count": 3,
   "metadata": {},
   "outputs": [],
   "source": [
    "# 保存小图片的文件夹\n",
    "POS_224_DIR = os.path.abspath(os.path.join(POS_DIR, \"..\", \"positive224\"))\n",
    "NEG_224_DIR = os.path.abspath(os.path.join(POS_DIR, \"..\", \"negative224\"))\n",
    "\n",
    "SMALL_IMG_HEIGHT = 224\n",
    "SMALL_IMG_WIDTH = 224"
   ]
  },
  {
   "cell_type": "code",
   "execution_count": 34,
   "metadata": {},
   "outputs": [],
   "source": [
    "debug = True # a gloabl flag to control message display\n",
    "\n",
    "def dlog(message):\n",
    "    if debug:\n",
    "        print(\"[debug] {}\".format(message))\n",
    "        \n",
    "def open_image(path):\n",
    "    '''\n",
    "    encapsulate cv2.imread\n",
    "    '''\n",
    "    if (os.path.exists(path)):\n",
    "        img = cv2.imread(path, cv2.IMREAD_COLOR)\n",
    "#         dlog(\"image size when opened: {}\".format(img.shape))\n",
    "        return img\n",
    "    else:\n",
    "        print(\"[error] image to open (path: {}) does not exist\".format(path))\n",
    "    \n",
    "\n",
    "def show_image(img, title=\"image\"):\n",
    "    '''\n",
    "    encapsulate plt.imshow()\n",
    "    '''\n",
    "    color_img=cv2.cvtColor(img,cv2.COLOR_BGR2RGB)\n",
    "    plt.figure()\n",
    "    plt.imshow(color_img)\n",
    "    plt.title(title)\n",
    "    #plt.show()\n",
    "\n",
    "def run_pos(input_dir = POS_DIR, token=\"pos\", output_dir=POS_224_DIR):\n",
    "    for filename in os.listdir(input_dir):\n",
    "        print(filename)\n",
    "        filepath = os.path.join(input_dir, filename)  \n",
    "        img = open_image(filepath)          \n",
    "\n",
    "        delta_height = int(img.shape[0] / 4)\n",
    "        delta_width = int(img.shape[1] / 4)\n",
    "\n",
    "        for i in [1,2,3]:\n",
    "            for j in [1,2,3]:\n",
    "                sx = delta_height * i - int(SMALL_IMG_HEIGHT / 2)\n",
    "                sy = delta_width * j - int(SMALL_IMG_WIDTH / 2)\n",
    "                small_img = img[sx:sx+SMALL_IMG_HEIGHT, sy:sy+SMALL_IMG_WIDTH]\n",
    "                new_filename = \"{}.{}.{}.{}.bmp\".format(filename.split('.')[0],token, i, j)\n",
    "                cv2.imwrite(os.path.join(output_dir,new_filename), small_img)\n",
    "\n",
    "def run_neg(input_dir = NEG_DIR, token=\"neg\", output_dir=NEG_224_DIR):\n",
    "    for filename in os.listdir(input_dir):\n",
    "#         print(filename)\n",
    "        if \"720p\" not in filename:\n",
    "            continue\n",
    "        filepath = os.path.join(input_dir, filename)  \n",
    "        img = open_image(filepath)          \n",
    "\n",
    "        delta_height = int(img.shape[0] / 4)\n",
    "        delta_width = int(img.shape[1] / 4)\n",
    "\n",
    "        for i in [1,2,3]:\n",
    "            for j in [1,2,3]:\n",
    "                sx = delta_height * i - int(SMALL_IMG_HEIGHT / 2)\n",
    "                sy = delta_width * j - int(SMALL_IMG_WIDTH / 2)\n",
    "                small_img = img[sx:sx+SMALL_IMG_HEIGHT, sy:sy+SMALL_IMG_WIDTH]\n",
    "                new_filename = \"{}.{}.{}.{}.{}.{}.bmp\".format(filename.split('.')[0],token,filename.split('.')[2], filename.split('.')[3], i, j)\n",
    "                cv2.imwrite(os.path.join(output_dir,new_filename), small_img)"
   ]
  },
  {
   "cell_type": "code",
   "execution_count": 31,
   "metadata": {
    "scrolled": true
   },
   "outputs": [],
   "source": [
    "run_pos(POS_DIR, \"pos\", POS_224_DIR)"
   ]
  },
  {
   "cell_type": "code",
   "execution_count": 35,
   "metadata": {
    "scrolled": true
   },
   "outputs": [],
   "source": [
    "run_neg(NEG_DIR, \"neg\", NEG_224_DIR)"
   ]
  },
  {
   "cell_type": "code",
   "execution_count": null,
   "metadata": {},
   "outputs": [],
   "source": []
  }
 ],
 "metadata": {
  "kernelspec": {
   "display_name": "Python 3",
   "language": "python",
   "name": "python3"
  },
  "language_info": {
   "codemirror_mode": {
    "name": "ipython",
    "version": 3
   },
   "file_extension": ".py",
   "mimetype": "text/x-python",
   "name": "python",
   "nbconvert_exporter": "python",
   "pygments_lexer": "ipython3",
   "version": "3.6.8"
  }
 },
 "nbformat": 4,
 "nbformat_minor": 2
}
